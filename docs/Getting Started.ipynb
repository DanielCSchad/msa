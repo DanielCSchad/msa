{
 "cells": [
  {
   "cell_type": "markdown",
   "metadata": {},
   "source": [
    "# Getting Started\n",
    "\n",
    "MSA (Multi-perturbation Shapley value Analysis) is a Game theoretical approach for calculating the contribution of each element of a system (here network models of the brain) to a system-wide description of the system. The classic neuroscience example: How much each brain region is causally relevant to an arbitrary cognitive function. \n",
    "\n",
    "The following examples show some of msapy's capabilities and give you an idea of the API.\n",
    "\n",
    "For more details on the API, see [API Docs](https://kuffmode.github.io/msa/API/interface.html).\n",
    "\n",
    "For specific purposes, refer to the following examples:\n",
    "1. [PyTorch and MSA](https://kuffmode.github.io/msa/examples/mnist_torch.html)\n",
    "2. [Time Series MSA](https://kuffmode.github.io/msa/examples/MSA%20TimeSeries.html)\n",
    "3. [MSA 2D](https://kuffmode.github.io/msa/examples/msa2d.html)"
   ]
  },
  {
   "cell_type": "markdown",
   "metadata": {},
   "source": [
    "To start the code examples, we load the library"
   ]
  },
  {
   "cell_type": "code",
   "execution_count": 1,
   "metadata": {},
   "outputs": [],
   "source": [
    "import numpy as np\n",
    "\n",
    "from msapy import msa"
   ]
  },
  {
   "cell_type": "markdown",
   "metadata": {},
   "source": [
    "Lets assume for this example that we have a system of four elements: \"A\", \"B\", \"C\", \"D\". The system produces some activity that is equal to the sum of contributions of the individual elements. For the sake of this example, we take the contribution of each element to be 50, 100, 200 and -30 with some added noise. We can write:\n",
    "* $ A \\sim \\mathcal{N}(50,\\,1)\\, $\n",
    "* $ B \\sim \\mathcal{N}(100,\\,1)\\, $\n",
    "* $ C \\sim \\mathcal{N}(200,\\,1)\\, $\n",
    "* $ D \\sim \\mathcal{N}(-30,\\,1)\\, $"
   ]
  },
  {
   "cell_type": "code",
   "execution_count": 2,
   "metadata": {},
   "outputs": [],
   "source": [
    "nodes = ['A', 'B', 'C', 'D']"
   ]
  },
  {
   "cell_type": "markdown",
   "metadata": {},
   "source": [
    "Now you need an objective function. An objective function returns the value that you want to know how it's affected by different elements of your system. For this example, it's the total activity of our system. The objective function should take an argument called `complements` which specifies the elements that are leasioned or removed."
   ]
  },
  {
   "cell_type": "code",
   "execution_count": 3,
   "metadata": {},
   "outputs": [],
   "source": [
    "def objective_function(complements):\n",
    "    contributions = {\"A\": 50, \"B\": 100, \"C\": 200, \"D\": -30}\n",
    "    activity = 0.0\n",
    "    for k, v in contributions.items():\n",
    "        if k not in complements:\n",
    "            activity += np.random.normal(v, 1)\n",
    "    return activity"
   ]
  },
  {
   "cell_type": "markdown",
   "metadata": {},
   "source": [
    "Now that we have all the things to run MSA, we can just call a single function"
   ]
  },
  {
   "cell_type": "code",
   "execution_count": 4,
   "metadata": {},
   "outputs": [
    {
     "name": "stderr",
     "output_type": "stream",
     "text": [
      "Playing the games: 100%|██████████| 16/16 [00:00<00:00, 55.66it/s]\n"
     ]
    }
   ],
   "source": [
    "shapley_table, _, _ = msa.interface(multiprocessing_method='joblib',\n",
    "                                    elements=nodes,\n",
    "                                    n_permutations=1000,\n",
    "                                    objective_function=objective_function,\n",
    "                                    n_parallel_games=-1,\n",
    "                                    random_seed=1)"
   ]
  },
  {
   "cell_type": "markdown",
   "metadata": {},
   "source": [
    "The `shapley_table` returned from `msa.interface` is a Pandas DataFrame with columns as the elements and the rows as permutations. We can take the mean of the rows to calculate the shapley values i.e. the contribution of each element."
   ]
  },
  {
   "cell_type": "code",
   "execution_count": 5,
   "metadata": {},
   "outputs": [
    {
     "data": {
      "text/html": [
       "<div>\n",
       "<style scoped>\n",
       "    .dataframe tbody tr th:only-of-type {\n",
       "        vertical-align: middle;\n",
       "    }\n",
       "\n",
       "    .dataframe tbody tr th {\n",
       "        vertical-align: top;\n",
       "    }\n",
       "\n",
       "    .dataframe thead th {\n",
       "        text-align: right;\n",
       "    }\n",
       "</style>\n",
       "<table border=\"1\" class=\"dataframe\">\n",
       "  <thead>\n",
       "    <tr style=\"text-align: right;\">\n",
       "      <th></th>\n",
       "      <th>A</th>\n",
       "      <th>B</th>\n",
       "      <th>C</th>\n",
       "      <th>D</th>\n",
       "    </tr>\n",
       "  </thead>\n",
       "  <tbody>\n",
       "    <tr>\n",
       "      <th>0</th>\n",
       "      <td>50.694676</td>\n",
       "      <td>96.433222</td>\n",
       "      <td>205.187005</td>\n",
       "      <td>-29.750080</td>\n",
       "    </tr>\n",
       "    <tr>\n",
       "      <th>1</th>\n",
       "      <td>50.171534</td>\n",
       "      <td>98.596692</td>\n",
       "      <td>203.478361</td>\n",
       "      <td>-29.681764</td>\n",
       "    </tr>\n",
       "    <tr>\n",
       "      <th>2</th>\n",
       "      <td>50.171534</td>\n",
       "      <td>101.138584</td>\n",
       "      <td>200.936469</td>\n",
       "      <td>-29.681764</td>\n",
       "    </tr>\n",
       "    <tr>\n",
       "      <th>3</th>\n",
       "      <td>53.112195</td>\n",
       "      <td>100.518344</td>\n",
       "      <td>201.291574</td>\n",
       "      <td>-32.357290</td>\n",
       "    </tr>\n",
       "    <tr>\n",
       "      <th>4</th>\n",
       "      <td>47.951872</td>\n",
       "      <td>99.176026</td>\n",
       "      <td>205.187005</td>\n",
       "      <td>-29.750080</td>\n",
       "    </tr>\n",
       "  </tbody>\n",
       "</table>\n",
       "</div>"
      ],
      "text/plain": [
       "           A           B           C          D\n",
       "0  50.694676   96.433222  205.187005 -29.750080\n",
       "1  50.171534   98.596692  203.478361 -29.681764\n",
       "2  50.171534  101.138584  200.936469 -29.681764\n",
       "3  53.112195  100.518344  201.291574 -32.357290\n",
       "4  47.951872   99.176026  205.187005 -29.750080"
      ]
     },
     "execution_count": 5,
     "metadata": {},
     "output_type": "execute_result"
    }
   ],
   "source": [
    "shapley_table.head()"
   ]
  },
  {
   "cell_type": "code",
   "execution_count": 6,
   "metadata": {},
   "outputs": [
    {
     "data": {
      "text/plain": [
       "A     51.166129\n",
       "B     99.612449\n",
       "C    201.211629\n",
       "D    -29.425385\n",
       "dtype: float64"
      ]
     },
     "execution_count": 6,
     "metadata": {},
     "output_type": "execute_result"
    }
   ],
   "source": [
    "shapley_table.mean()"
   ]
  },
  {
   "cell_type": "markdown",
   "metadata": {},
   "source": [
    "The contributions from the MSA are very close to the real contributions.\n",
    "\n",
    "This was just a very simple example for how to use MSA."
   ]
  }
 ],
 "metadata": {
  "kernelspec": {
   "display_name": "Python 3.9.12 ('base')",
   "language": "python",
   "name": "python3"
  },
  "language_info": {
   "codemirror_mode": {
    "name": "ipython",
    "version": 3
   },
   "file_extension": ".py",
   "mimetype": "text/x-python",
   "name": "python",
   "nbconvert_exporter": "python",
   "pygments_lexer": "ipython3",
   "version": "3.9.12"
  },
  "orig_nbformat": 4,
  "vscode": {
   "interpreter": {
    "hash": "1d69a8b2a4f3d52dc5281604d172b3c9eb3d73ccb52e578e4470c71234981974"
   }
  }
 },
 "nbformat": 4,
 "nbformat_minor": 2
}

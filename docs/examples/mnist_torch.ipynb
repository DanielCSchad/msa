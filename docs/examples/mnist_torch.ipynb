{
 "cells": [
  {
   "cell_type": "markdown",
   "metadata": {},
   "source": [
    "## MSA on PyTorch Network trained on MNIST \n",
    "\n",
    "This is an example of how we can perform **\"Multiperturbation Shapley value Analysis\"** on a PyTorch neural network. We train a three layer [input, hidden, output] network with 32 neurons in the hidden layer. We use MSA to analyse the contribution of each neuron in the hidden layer in accurately predicting the classes. "
   ]
  },
  {
   "cell_type": "code",
   "execution_count": 14,
   "metadata": {},
   "outputs": [],
   "source": [
    "import sys\n",
    "sys.path.append('/home/hiwi/Desktop/msa')\n",
    "\n",
    "# Imports\n",
    "import matplotlib.pyplot as plt\n",
    "import numpy as np\n",
    "import seaborn as sns\n",
    "# ---------\n",
    "from msapy import msa, utils as ut, plottings as pl\n",
    "# ---------\n",
    "from functools import partial\n",
    "from typing import Union, Optional, List\n",
    "\n",
    "CM = 1 / 2.54\n",
    "SEED = 42\n",
    "RNG = np.random.default_rng(SEED)\n",
    "FIGPATH = \"figures/mnist/\""
   ]
  },
  {
   "cell_type": "code",
   "execution_count": 15,
   "metadata": {},
   "outputs": [],
   "source": [
    "import torch\n",
    "import torch.nn as nn\n",
    "import torch.optim as optim\n",
    "import torchvision.transforms as T\n",
    "\n",
    "from torch.utils.data import DataLoader, TensorDataset\n",
    "from torchvision import datasets"
   ]
  },
  {
   "cell_type": "code",
   "execution_count": 16,
   "metadata": {},
   "outputs": [
    {
     "data": {
      "text/plain": [
       "device(type='cpu')"
      ]
     },
     "execution_count": 16,
     "metadata": {},
     "output_type": "execute_result"
    }
   ],
   "source": [
    "# Device configuration\n",
    "device = torch.device('cpu')\n",
    "device"
   ]
  },
  {
   "cell_type": "markdown",
   "metadata": {},
   "source": [
    "### Loading Data"
   ]
  },
  {
   "cell_type": "code",
   "execution_count": 17,
   "metadata": {},
   "outputs": [],
   "source": [
    "mnist_transforms = T.Lambda(lambda x: torch.flatten(x, 1)/255)\n",
    "\n",
    "train_data = datasets.MNIST(\n",
    "    root = 'data',\n",
    "    train = True,                         \n",
    "    transform = mnist_transforms, \n",
    "    download = True,            \n",
    ")\n",
    "\n",
    "test_data = datasets.MNIST(\n",
    "    root = 'data', \n",
    "    train = False, \n",
    "    transform = mnist_transforms\n",
    ")\n",
    "\n",
    "train_data = TensorDataset(mnist_transforms(train_data.data.to(device)), train_data.targets.to(device))\n",
    "test_data = TensorDataset(mnist_transforms(test_data.data.to(device)), test_data.targets.to(device))"
   ]
  },
  {
   "cell_type": "code",
   "execution_count": 18,
   "metadata": {},
   "outputs": [],
   "source": [
    "trainloader = DataLoader(train_data, \n",
    "                        batch_size=64, \n",
    "                        shuffle=True)\n",
    "    \n",
    "testloader = DataLoader(test_data, \n",
    "                        batch_size=1024)"
   ]
  },
  {
   "cell_type": "markdown",
   "metadata": {},
   "source": [
    "### Model Definition"
   ]
  },
  {
   "cell_type": "code",
   "execution_count": 19,
   "metadata": {},
   "outputs": [],
   "source": [
    "class MNISTNet(nn.Module):\n",
    "    def __init__(self):\n",
    "        super(MNISTNet, self).__init__()\n",
    "        self.layer1 = nn.Linear(28*28, 32)\n",
    "        self.layer2 = nn.Sequential(nn.LeakyReLU(),\n",
    "                                    nn.Linear(32, 10))\n",
    "\n",
    "    def forward(self, x: torch.Tensor, lesion_idx: Optional[Union[int, List[int]]] = None) -> torch.Tensor:\n",
    "        \"\"\"forward function to calculate the scores for each class\n",
    "\n",
    "        Args:\n",
    "            x (torch.Tensor): data of shape [batch_size, 28*28]\n",
    "            lesion_idx (Optional[Union[int,List[int]]], optional): the neuron that we want to lesion in the hidden layer1. Defaults to None i.e. no lesioning performed.\n",
    "\n",
    "        Returns:\n",
    "            torch.Tensor: scores for each class\n",
    "        \"\"\"\n",
    "        out = self.layer1(x)\n",
    "\n",
    "        if lesion_idx:\n",
    "            out[:, lesion_idx] = 0  # set the value to 0 for the lesioned neuron\n",
    "\n",
    "        return self.layer2(out)\n",
    "\n",
    "\n",
    "model = MNISTNet().to(device)\n"
   ]
  },
  {
   "cell_type": "markdown",
   "metadata": {},
   "source": [
    "### Training the Model"
   ]
  },
  {
   "cell_type": "code",
   "execution_count": 20,
   "metadata": {},
   "outputs": [],
   "source": [
    "loss_func = nn.CrossEntropyLoss()\n",
    "optimizer = optim.Adam(model.parameters(), lr = 0.01)"
   ]
  },
  {
   "cell_type": "code",
   "execution_count": 21,
   "metadata": {},
   "outputs": [
    {
     "name": "stdout",
     "output_type": "stream",
     "text": [
      "[1,   400] loss: 0.376\n",
      "[1,   800] loss: 0.220\n",
      "[2,   400] loss: 0.166\n",
      "[2,   800] loss: 0.173\n",
      "Finished Training\n"
     ]
    }
   ],
   "source": [
    "for epoch in range(2):  # loop over the dataset multiple times\n",
    "\n",
    "    running_loss = 0.0\n",
    "    for i, data in enumerate(trainloader, 0):\n",
    "        # get the inputs; data is a list of [inputs, labels]\n",
    "        inputs, labels = data\n",
    "        # zero the parameter gradients\n",
    "        optimizer.zero_grad()\n",
    "\n",
    "        # forward + backward + optimize\n",
    "        outputs = model(inputs)\n",
    "        loss = loss_func(outputs, labels)\n",
    "        loss.backward()\n",
    "        optimizer.step()\n",
    "\n",
    "        # print statistics\n",
    "        running_loss += loss.item()\n",
    "        if i % 400 == 399:    # print every 200 mini-batches\n",
    "            print(f'[{epoch + 1}, {i + 1:5d}] loss: {running_loss / 400:.3f}')\n",
    "            running_loss = 0.0\n",
    "\n",
    "print('Finished Training')\n"
   ]
  },
  {
   "cell_type": "markdown",
   "metadata": {},
   "source": [
    "## MSA"
   ]
  },
  {
   "cell_type": "code",
   "execution_count": 22,
   "metadata": {},
   "outputs": [],
   "source": [
    "@torch.no_grad()\n",
    "def test_accuracy(lesion_idx: Optional[Union[int, List[int]]] = None, num_batches: int = -1) -> float:\n",
    "    \"\"\"return the accuracy of the model on test dataset\n",
    "\n",
    "    Args:\n",
    "        lesion_idx (Optional[Union[int,List[int]]], optional): the neuron that we want to lesion in the hidden layer1. Defaults to None i.e. no lesioning performed.\n",
    "        num_batches (int, optional): the number of batches we want to test our model. Defaults to -1 i.e. all data\n",
    "\n",
    "    Returns:\n",
    "        float: test accuracy\n",
    "    \"\"\"\n",
    "    correct = 0\n",
    "    total = 0\n",
    "\n",
    "    for i, data in enumerate(testloader):\n",
    "        images, labels = data\n",
    "        # calculate outputs by running images through the network\n",
    "        outputs = model(images, lesion_idx)\n",
    "        # the class with the highest score is what we choose as prediction\n",
    "        _, predicted = torch.max(outputs.data, 1)\n",
    "        total += labels.size(0)\n",
    "        correct += (predicted == labels).sum().item()\n",
    "\n",
    "        if i == (num_batches-1):\n",
    "            return (correct/total)*100\n",
    "\n",
    "    return (correct/total)*100\n"
   ]
  },
  {
   "cell_type": "code",
   "execution_count": 23,
   "metadata": {},
   "outputs": [
    {
     "name": "stdout",
     "output_type": "stream",
     "text": [
      "the accuracy of the model on the first batch without leasoning is: 94.7265625\n"
     ]
    }
   ],
   "source": [
    "print(f\"the accuracy of the model on the first batch without leasoning is: {test_accuracy(num_batches=1)}\")"
   ]
  },
  {
   "cell_type": "code",
   "execution_count": 24,
   "metadata": {},
   "outputs": [
    {
     "name": "stdout",
     "output_type": "stream",
     "text": [
      "total number of possible lesions: 4294967296\n"
     ]
    }
   ],
   "source": [
    "ground_truth_elements = list(range(32)) #Indices for the neurons in the hidden layer\n",
    "print(f'total number of possible lesions: {2**len(ground_truth_elements)}')"
   ]
  },
  {
   "cell_type": "markdown",
   "metadata": {},
   "source": [
    "Now we perform the MSA to calculate the contributions for each neuron\n",
    "\n",
    "#### Note: You might want to change the device to cpu while running MSA if you have to load the data into the GPU at every iteration. This could become a bottleneck. If your data is already on the gpu than it's not a problem"
   ]
  },
  {
   "cell_type": "code",
   "execution_count": 25,
   "metadata": {},
   "outputs": [
    {
     "name": "stderr",
     "output_type": "stream",
     "text": [
      "Playing the games:   4%|▍         | 1224/27682 [01:50<39:50, 11.07it/s]"
     ]
    }
   ],
   "source": [
    "shapley_table, _, _ = msa.interface(\n",
    "    elements=ground_truth_elements,\n",
    "    n_permutations=1000, # might want to increase it for better results\n",
    "    objective_function=partial(test_accuracy, num_batches=1), #only the first batch to save time. But the batch size is 1024 i.e ~100 images per class\n",
    "    n_parallel_games=-1, #parallelized over all CPU cores\n",
    "    rng=RNG)"
   ]
  },
  {
   "cell_type": "code",
   "execution_count": null,
   "metadata": {},
   "outputs": [
    {
     "data": {
      "image/png": "[encoded data removed]",
      "text/plain": [
       "<Figure size 924x616 with 1 Axes>"
      ]
     },
     "metadata": {
      "needs_background": "light"
     },
     "output_type": "display_data"
    }
   ],
   "source": [
    "shapley_table = ut.sorter(shapley_table) # sorting based on the average contribution (Shapley values)\n",
    "\n",
    "fig,ax = plt.subplots()\n",
    "colors = pl.color_code(shapley_table=shapley_table)\n",
    "pl.plot_shapley_ranks(shapley_table=shapley_table,colors=colors,ax=ax)\n",
    "fig.set_dpi(154)\n",
    "plt.xlabel('Shapley values')\n",
    "plt.ylabel('Elements')\n",
    "plt.title('Shapley values for neurons in hidden layer')\n",
    "plt.savefig(f\"{FIGPATH}Shapley.pdf\",dpi=300,bbox_inches='tight')"
   ]
  }
 ],
 "metadata": {
  "interpreter": {
   "hash": "6ebdd63b90cae52d530d710b364d3a738e11c24089cbf33af29a18374c02ca91"
  },
  "kernelspec": {
   "display_name": "Python 3.9.7 ('msa')",
   "language": "python",
   "name": "python3"
  },
  "language_info": {
   "codemirror_mode": {
    "name": "ipython",
    "version": 3
   },
   "file_extension": ".py",
   "mimetype": "text/x-python",
   "name": "python",
   "nbconvert_exporter": "python",
   "pygments_lexer": "ipython3",
   "version": "3.9.7"
  },
  "orig_nbformat": 4
 },
 "nbformat": 4,
 "nbformat_minor": 2
}

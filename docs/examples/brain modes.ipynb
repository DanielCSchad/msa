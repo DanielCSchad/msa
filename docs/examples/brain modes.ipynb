{
 "cells": [
  {
   "attachments": {},
   "cell_type": "markdown",
   "metadata": {},
   "source": [
    "# Capturing contributions in different 'brain modes'\n",
    "\n",
    "In this notebook, I will simulate the modes described here:\n",
    "- Toba, Monica N., Olivier Godefroy, R. Jarrett Rushmore, Melissa Zavaglia, Redwan Maatoug, Claus C. Hilgetag, and Antoni Valero-Cabré. 2019. **“Revisiting ‘brain Modes’ in a New Computational Era: Approaches for the Characterization of Brain-Behavioural Associations.”** Brain: A Journal of Neurology, November. https://doi.org/10.1093/brain/awz343.\n",
    "\n",
    "The idea, as described in the above paper comes from an earlier work by Godfroy and colleagues in which they _\"conceptualized the potential of four elementary typologies of brain-behaviour relationships named ‘brain modes’ (unicity, equivalence, association, summation) as building blocks able to describe the association between intact or lesionedbrain regions and cognitive processes or neurological deficits.\"_ \n",
    "\n",
    "In this work, Toba and co-workers revisted the idea and added a fifth mode called \"mutual inhibition\". It's a very nice concept for categorizing brain-behavior relationships so I thought I give MSA a try and see if I can capture these interactions."
   ]
  },
  {
   "cell_type": "code",
   "execution_count": 1,
   "metadata": {
    "jupyter": {
     "outputs_hidden": false
    },
    "pycharm": {
     "name": "#%%\n"
    }
   },
   "outputs": [],
   "source": [
    "# Uncomment the line below if you don't have them.\n",
    "# !pip install networkx matplotlib seaborn"
   ]
  },
  {
   "cell_type": "code",
   "execution_count": 2,
   "metadata": {},
   "outputs": [],
   "source": [
    "# Imports\n",
    "import matplotlib.pyplot as plt\n",
    "# ---------\n",
    "from msapy import msa, utils as ut, plottings as pl\n",
    "# ---------\n",
    "import matplotlib as mpl\n",
    "mpl.rcParams['font.family'] = 'sans-serif'\n",
    "# Will skip if you don't have Gotham typeface family\n",
    "mpl.rcParams['font.sans-serif'] = 'GothamSSm'\n",
    "mpl.rcParams['pdf.fonttype'] = 42\n",
    "mpl.rcParams['font.size'] = 8\n",
    "# ---------\n",
    "CM = 1 / 2.54\n",
    "SEED = 111\n",
    "FIGPATH = \"figures/bm/\""
   ]
  },
  {
   "attachments": {},
   "cell_type": "markdown",
   "metadata": {},
   "source": [
    "Although the original paper talks about two regions, here we go with some dummy regions and work with one to three regions. Keep it simple but more spicy! The regions of interest will be mostly 'a' and 'b' but once 'c' too."
   ]
  },
  {
   "cell_type": "code",
   "execution_count": 3,
   "metadata": {
    "pycharm": {
     "name": "#%%\n"
    }
   },
   "outputs": [],
   "source": [
    "regions = ['a', 'b', 'c', 'd', 'e', 'f', 'g', 'h']"
   ]
  },
  {
   "attachments": {},
   "cell_type": "markdown",
   "metadata": {},
   "source": [
    "## Modes:\n",
    "Let's look at the modes first:\n",
    "\n",
    "<img src=\"../images/modes.png\"  width=\"800\">\n",
    "\n",
    "Each mode represents a type of interaction between two (or more) regions that causes some deficit in a cognitive/behavioral domain. Let's look at the parts describing these modes in the paper: (bolded parts are by me)\n",
    "\n",
    "- **Unicity:** Unicity, could depict the functional contributions of **isolated nodes**, which are hardly present in the highly and intricately connected mammalian nervous systems. Thus, this mode has been theoretically hypothesized but remains to be documented clinically.\n",
    "\n",
    "\n",
    "- **Equivalence:** The equivalence brain mode has been documented theoretically and also clinically. Indeed, in the original paper describing brain modes, single lesions localized at two different levels along the cortico-spinal tract were characterized as **equally responsible** for motor weakness.\n",
    "\n",
    "\n",
    "- **Association:** The association brain mode has been identified theoretically but remains to be better documented clinically, as it requires rare-to-find patients with selective lesions damaging **multiple regions within the same network.** This mode was originally illustrated in patients with unilateral lenticulostriate lesions(Godefroy et al., 1992) showing executive function impairment **only when, additionally, they suffered an associated cortical infarct**.\n",
    "\n",
    "\n",
    "- **Summation:** The summation mode has been documented both theoretically and clinically. For example, in language impairments, non-fluent aphasia was associated with lesions of putamen and surrounding structures while mutism was associated with **large lesion of the three frontal gyri and putamen**.\n",
    "\n",
    "\n",
    "- **Mutual Inhibition:** [...]multivariate CART approaches originally used for their characterization failed to identify ‘paradoxical lesion cancellation’ effects,[...] This phenomenon described the **paradoxical improvement of performance deficits caused by a circumscribed lesion** thanks to a reversible or permanent suppression of activity in a second brain area interacting with the former.\n",
    "\n",
    "\n",
    "So let's code them:"
   ]
  },
  {
   "cell_type": "code",
   "execution_count": 4,
   "metadata": {
    "pycharm": {
     "name": "#%%\n"
    }
   },
   "outputs": [],
   "source": [
    "def unicity(complements):\n",
    "    # Region 'a' is the only cause of the function.\n",
    "\n",
    "    if set('a').issubset(complements):\n",
    "        return 0  # simulates a total behavioral deficit.\n",
    "    else:\n",
    "        return 100  # otherwise, we're cool.\n",
    "\n",
    "\n",
    "def equivalence(complements):\n",
    "    # Function relies on one **or** the other region so lesioning either will produce a deficit.\n",
    "\n",
    "    if set('a').issubset(complements) or set('b').issubset(complements):\n",
    "        return 0\n",
    "    else:\n",
    "        return 100\n",
    "\n",
    "\n",
    "def association(complements):\n",
    "    # If **both** regions are damaged at the same time, there will be a problem.\n",
    "\n",
    "    if set(['a', 'b']).issubset(complements):\n",
    "        return 0\n",
    "    else:\n",
    "        return 100\n",
    "\n",
    "\n",
    "def summation(complements):\n",
    "    # Lesioning both will have a **bigger impact** compared to lesioning one, and it get's worst with three.\n",
    "\n",
    "    if set(['a', 'b', 'c']).issubset(complements):\n",
    "        return 30  # lesions add up and make larger impact on the performance.\n",
    "    elif set(['a', 'b']).issubset(complements):\n",
    "        return 60\n",
    "    elif set('a').issubset(complements):\n",
    "        return 90\n",
    "    else:\n",
    "        return 100\n",
    "\n",
    "\n",
    "def mutual_inhibition(complements):\n",
    "    # Lesioning one region produces deficit while lesioning another repairs it.\n",
    "\n",
    "    if set('a').issubset(complements) and set('b').issubset(complements):\n",
    "        return 100  # Paradoxically, two lesions = full performance\n",
    "\n",
    "    elif set('a').issubset(complements):\n",
    "        return 0  # lesioning either one is a bad idea\n",
    "    elif set('b').issubset(complements):\n",
    "        return 0\n",
    "\n",
    "    else:\n",
    "        return 100"
   ]
  },
  {
   "attachments": {},
   "cell_type": "markdown",
   "metadata": {},
   "source": [
    "Now let's loop through them, simulate, and calculate Shapley values of each element in these brain modes."
   ]
  },
  {
   "cell_type": "code",
   "execution_count": 5,
   "metadata": {
    "pycharm": {
     "name": "#%%\n"
    }
   },
   "outputs": [],
   "source": [
    "modes = [unicity, equivalence, association, summation, mutual_inhibition]\n",
    "\n",
    "shapley_tables = dict.fromkeys([keys.__name__ for keys in modes])\n",
    "\n",
    "for mode in modes:\n",
    "    shapley_tables[mode.__name__] = msa.interface(elements=regions,\n",
    "                                                  n_permutations=1_000,\n",
    "                                                  objective_function=mode,\n",
    "                                                  n_parallel_games=1,\n",
    "                                                  random_seed=SEED)"
   ]
  },
  {
   "attachments": {},
   "cell_type": "markdown",
   "metadata": {},
   "source": [
    "And plotting stuff:"
   ]
  },
  {
   "cell_type": "code",
   "execution_count": 6,
   "metadata": {
    "pycharm": {
     "name": "#%%\n"
    }
   },
   "outputs": [
    {
     "name": "stderr",
     "output_type": "stream",
     "text": [
      "findfont: Font family ['sans-serif'] not found. Falling back to DejaVu Sans.\n",
      "findfont: Generic family 'sans-serif' not found because none of the following families were found: GothamSSm\n",
      "findfont: Font family ['sans-serif'] not found. Falling back to DejaVu Sans.\n",
      "findfont: Generic family 'sans-serif' not found because none of the following families were found: GothamSSm\n"
     ]
    },
    {
     "data": {
      "image/png": "[encoded data removed]",
      "text/plain": [
       "<Figure size 708.661x295.276 with 5 Axes>"
      ]
     },
     "metadata": {
      "needs_background": "light"
     },
     "output_type": "display_data"
    }
   ],
   "source": [
    "\n",
    "fig, axes = plt.subplots(1, 5, figsize=(12*CM, 5*CM), dpi=150)\n",
    "fig.suptitle(\"Regions' contributions w.r.t different Brain Modes\")\n",
    "\n",
    "for i, mode in enumerate(shapley_tables.keys()):\n",
    "\n",
    "    axes[i].set_title(f'{mode}', fontsize=8)\n",
    "    dataset = ut.sorter(shapley_tables[mode])\n",
    "    colors = pl.color_code(shapley_table=dataset)\n",
    "\n",
    "    pl.plot_shapley_ranks(shapley_table=dataset,\n",
    "                          colors=colors,\n",
    "                          ax=axes[i])\n",
    "\n",
    "fig.tight_layout()\n",
    "plt.savefig(f\"{FIGPATH}brain_modes.pdf\", dpi=300, bbox_inches='tight')"
   ]
  },
  {
   "attachments": {},
   "cell_type": "markdown",
   "metadata": {
    "pycharm": {
     "name": "#%% md\n"
    }
   },
   "source": [
    "The interesting points for me are the negative Shapley value of region 'a' and 'b' in the mutual inhibition mode, and the indistinguishable contributions in equivalence and association modes."
   ]
  }
 ],
 "metadata": {
  "kernelspec": {
   "display_name": "Python 3.8.12 ('msa_echoes')",
   "language": "python",
   "name": "python3"
  },
  "language_info": {
   "codemirror_mode": {
    "name": "ipython",
    "version": 3
   },
   "file_extension": ".py",
   "mimetype": "text/x-python",
   "name": "python",
   "nbconvert_exporter": "python",
   "pygments_lexer": "ipython3",
   "version": "3.8.13"
  },
  "vscode": {
   "interpreter": {
    "hash": "246903f92a9335ee7901984aee723bcb299db318829cc3c17eaabab75a65fba4"
   }
  }
 },
 "nbformat": 4,
 "nbformat_minor": 4
}
